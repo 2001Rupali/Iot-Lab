{
  "nbformat": 4,
  "nbformat_minor": 0,
  "metadata": {
    "colab": {
      "provenance": []
    },
    "kernelspec": {
      "name": "python3",
      "display_name": "Python 3"
    },
    "language_info": {
      "name": "python"
    }
  },
  "cells": [
    {
      "cell_type": "code",
      "execution_count": 5,
      "metadata": {
        "colab": {
          "base_uri": "https://localhost:8080/"
        },
        "id": "HO1EXFYyJeuO",
        "outputId": "c44c1c65-9ec6-48b6-b95c-f038e852e5e4"
      },
      "outputs": [
        {
          "output_type": "stream",
          "name": "stdout",
          "text": [
            "27\n",
            "-3\n",
            "180\n",
            "0.8\n",
            "12\n",
            "15407021574586368\n",
            "0\n"
          ]
        }
      ],
      "source": [
        "#Arithimetic operations\n",
        "p = 12 \n",
        "q = 15\n",
        "add = p + q\n",
        "sub = p - q\n",
        "mul = p * q\n",
        "div = p / q\n",
        "mod = p % q\n",
        "expo = p ** q\n",
        "fd = p // q\n",
        "print(add)\n",
        "print(sub)\n",
        "print(mul)\n",
        "print(div)\n",
        "print(mod)\n",
        "print(expo)\n",
        "print(fd)"
      ]
    },
    {
      "cell_type": "code",
      "source": [
        "pip install cryptography\n"
      ],
      "metadata": {
        "colab": {
          "base_uri": "https://localhost:8080/"
        },
        "id": "_7ij6VIdOlh8",
        "outputId": "bc09e8cf-de3f-4c8f-bdd3-5e7c58439fd5"
      },
      "execution_count": 9,
      "outputs": [
        {
          "output_type": "stream",
          "name": "stdout",
          "text": [
            "Looking in indexes: https://pypi.org/simple, https://us-python.pkg.dev/colab-wheels/public/simple/\n",
            "Collecting cryptography\n",
            "  Downloading cryptography-39.0.0-cp36-abi3-manylinux_2_28_x86_64.whl (4.2 MB)\n",
            "\u001b[2K     \u001b[90m━━━━━━━━━━━━━━━━━━━━━━━━━━━━━━━━━━━━━━━━\u001b[0m \u001b[32m4.2/4.2 MB\u001b[0m \u001b[31m34.4 MB/s\u001b[0m eta \u001b[36m0:00:00\u001b[0m\n",
            "\u001b[?25hRequirement already satisfied: cffi>=1.12 in /usr/local/lib/python3.8/dist-packages (from cryptography) (1.15.1)\n",
            "Requirement already satisfied: pycparser in /usr/local/lib/python3.8/dist-packages (from cffi>=1.12->cryptography) (2.21)\n",
            "Installing collected packages: cryptography\n",
            "Successfully installed cryptography-39.0.0\n"
          ]
        }
      ]
    },
    {
      "cell_type": "code",
      "source": [
        "from cryptography.fernet import Fernet\n",
        "a = Fernet.generate_key()\n",
        "print(\"Key : \", a.decode())\n",
        "f = Fernet(a)\n",
        "encrypted_data = f.encrypt(b\"COEP\")\n",
        "print(\"After encryption : \", encrypted_data)\n",
        "decrypted_data = f.decrypt(encrypted_data)\n",
        "print(decrypted_data)\n",
        "print(\"After decryption : \", decrypted_data.decode())"
      ],
      "metadata": {
        "colab": {
          "base_uri": "https://localhost:8080/"
        },
        "id": "fIUZMtYNLm3E",
        "outputId": "91eaf7e3-c960-4a2a-edba-7d9c558973b6"
      },
      "execution_count": 14,
      "outputs": [
        {
          "output_type": "stream",
          "name": "stdout",
          "text": [
            "Key :  8zB-NRVi5yix5hMK9j_QVV4cQVIR_Upm21WXeBV7ZHw=\n",
            "After encryption :  b'gAAAAABjyk8Ge1ofd-92X0sK--2WwNvLmJRTs-V3i_sLUuCOrZBjSBlNqOLE9KCDEwCdfnVCJb-sEhJu77GQdmjErzUqyt_cKA=='\n",
            "b'COEP'\n",
            "After decryption :  COEP\n"
          ]
        }
      ]
    },
    {
      "cell_type": "code",
      "source": [
        "from cryptography.fernet import Fernet\n",
        "message = \"coep\"\n",
        "key = Fernet.generate_key()\n",
        "\n",
        "fernet = Fernet(key)\n",
        "encMessage = fernet.encrypt(message.encode())\n",
        "\n",
        "print(\"original string: \", message)\n",
        "print(\"encrypted string: \", encMessage)\n",
        "\n",
        "decMessage = fernet.decrypt(encMessage).decode()\n",
        "print(\"decrypted string: \", decMessage)"
      ],
      "metadata": {
        "colab": {
          "base_uri": "https://localhost:8080/"
        },
        "id": "avz_PK-WNZbH",
        "outputId": "a483fb3e-4675-4763-e8d9-96d7805298c7"
      },
      "execution_count": 12,
      "outputs": [
        {
          "output_type": "stream",
          "name": "stdout",
          "text": [
            "original string:  coep\n",
            "encrypted string:  b'gAAAAABjykzvTigPc0Wn0joCJ22z6Rrn8SiAAuclBDLk3K4IGsGkEXJBqpXDBjP5mEcDBoPl6E00D9m6OXxKSUCVBaRkVlowdg=='\n",
            "decrypted string:  coep\n"
          ]
        }
      ]
    }
  ]
}